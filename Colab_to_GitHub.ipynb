{
 "cells": [
  {
   "cell_type": "markdown",
   "id": "6d937346",
   "metadata": {},
   "source": [
    "# Process for Connecting Google Colab to GitHub and Real-Life Use Cases"
   ]
  },
  {
   "cell_type": "markdown",
   "id": "b3cd64be",
   "metadata": {},
   "source": [
    "\n",
    "This guide provides a comprehensive workflow to connect Google Colab to GitHub, make changes to files programmatically, and manage real-life tasks such as editing configuration files, Python scripts, and HTML files. It also includes steps for mounting Google Drive and creating `.env` files.\n"
   ]
  },
  {
   "cell_type": "markdown",
   "id": "2b857479",
   "metadata": {},
   "source": [
    "## 1. Create a GitHub Repository"
   ]
  },
  {
   "cell_type": "markdown",
   "id": "3fbfa38d",
   "metadata": {},
   "source": [
    "\n",
    "1. Log in to [GitHub](https://github.com) and click on **\"New Repository\"**.\n",
    "2. Fill in the details:\n",
    "   - **Repository Name**: e.g., `colab-project`.\n",
    "   - **Description**: Add a brief description (optional).\n",
    "   - **Do not check**: Initialize this repository with a README.\n",
    "3. Click **\"Create Repository\"** to finish.\n"
   ]
  },
  {
   "cell_type": "markdown",
   "id": "217e99a0",
   "metadata": {},
   "source": [
    "## 2. Log into Google Colab"
   ]
  },
  {
   "cell_type": "markdown",
   "id": "d58d9a4d",
   "metadata": {},
   "source": [
    "\n",
    "1. Open [Google Colab](https://colab.research.google.com).\n",
    "2. Log in with your Google account.\n",
    "3. Create a new notebook:\n",
    "   - Click **\"File\"** > **\"New Notebook\"**.\n",
    "   - Rename it (e.g., `GitHub_Integration.ipynb`).\n"
   ]
  },
  {
   "cell_type": "markdown",
   "id": "b6c5cc37",
   "metadata": {},
   "source": [
    "## 3. Mount Google Drive"
   ]
  },
  {
   "cell_type": "code",
   "execution_count": null,
   "id": "91528c9b",
   "metadata": {},
   "outputs": [],
   "source": [
    "\n",
    "from google.colab import drive\n",
    "drive.mount('/content/drive')\n"
   ]
  },
  {
   "cell_type": "markdown",
   "id": "52bcc84b",
   "metadata": {},
   "source": [
    "## 4. Clone Your GitHub Repository"
   ]
  },
  {
   "cell_type": "code",
   "execution_count": null,
   "id": "c36affb7",
   "metadata": {},
   "outputs": [],
   "source": [
    "\n",
    "!git clone https://github.com/your-username/colab-project.git\n",
    "%cd colab-project\n"
   ]
  },
  {
   "cell_type": "markdown",
   "id": "1f68208f",
   "metadata": {},
   "source": [
    "## 5. Configure Git in Colab"
   ]
  },
  {
   "cell_type": "code",
   "execution_count": null,
   "id": "11b460fb",
   "metadata": {},
   "outputs": [],
   "source": [
    "\n",
    "!git config --global user.name \"Your Name\"\n",
    "!git config --global user.email \"your_email@example.com\"\n"
   ]
  },
  {
   "cell_type": "markdown",
   "id": "8c209e90",
   "metadata": {},
   "source": [
    "## 6. Real-Life Use Cases for Editing Files"
   ]
  },
  {
   "cell_type": "markdown",
   "id": "c88308fb",
   "metadata": {},
   "source": [
    "### 6.1 Create a Python Script"
   ]
  },
  {
   "cell_type": "code",
   "execution_count": null,
   "id": "a76b5f67",
   "metadata": {},
   "outputs": [],
   "source": [
    "\n",
    "with open('script.py', 'w') as file:\n",
    "    file.write('def greet(name):\\n')\n",
    "    file.write('    return f\"Hello, {name}!\"\\n')\n"
   ]
  },
  {
   "cell_type": "markdown",
   "id": "55d58b80",
   "metadata": {},
   "source": [
    "### 6.2 Update README.md"
   ]
  },
  {
   "cell_type": "code",
   "execution_count": null,
   "id": "c889aad3",
   "metadata": {},
   "outputs": [],
   "source": [
    "\n",
    "with open('README.md', 'a') as file:\n",
    "    file.write('\\n## New Section\\n\\n')\n",
    "    file.write('This is an example of appending to a README file.\\n')\n"
   ]
  },
  {
   "cell_type": "markdown",
   "id": "02d88134",
   "metadata": {},
   "source": [
    "### 6.3 Create an HTML File"
   ]
  },
  {
   "cell_type": "code",
   "execution_count": null,
   "id": "350e73ad",
   "metadata": {},
   "outputs": [],
   "source": [
    "\n",
    "with open('index.html', 'w') as file:\n",
    "    file.write('<!DOCTYPE html>\\n')\n",
    "    file.write('<html><head><title>My Website</title></head><body>\\n')\n",
    "    file.write('<h1>Welcome to My Website</h1>\\n')\n",
    "    file.write('</body></html>\\n')\n"
   ]
  },
  {
   "cell_type": "markdown",
   "id": "2a68cbba",
   "metadata": {},
   "source": [
    "### 6.4 Create a .env File"
   ]
  },
  {
   "cell_type": "code",
   "execution_count": null,
   "id": "d76851c6",
   "metadata": {},
   "outputs": [],
   "source": [
    "\n",
    "with open('.env', 'w') as file:\n",
    "    file.write('API_KEY=your_api_key_here\\n')\n",
    "    file.write('DEBUG=True\\n')\n"
   ]
  },
  {
   "cell_type": "markdown",
   "id": "ffc86fff",
   "metadata": {},
   "source": [
    "## 7. Stage, Commit, and Push Changes"
   ]
  },
  {
   "cell_type": "code",
   "execution_count": null,
   "id": "31b2c816",
   "metadata": {},
   "outputs": [],
   "source": [
    "\n",
    "!git add .\n",
    "!git commit -m \"Updated files programmatically\"\n",
    "!git push origin main\n"
   ]
  },
  {
   "cell_type": "markdown",
   "id": "46c0fcce",
   "metadata": {},
   "source": [
    "## 8. Summary Workflow"
   ]
  },
  {
   "cell_type": "markdown",
   "id": "2503650b",
   "metadata": {},
   "source": [
    "\n",
    "1. Create a GitHub repository.\n",
    "2. Log into Google Colab and clone the repository.\n",
    "3. Create, edit, and verify files (e.g., Python, HTML, .env).\n",
    "4. Stage, commit, and push changes to GitHub.\n",
    "5. Verify the changes on GitHub.\n",
    "\n",
    "This guide provides a detailed workflow for Colab-GitHub integration and real-life use cases.\n"
   ]
  }
 ],
 "metadata": {},
 "nbformat": 4,
 "nbformat_minor": 5
}
